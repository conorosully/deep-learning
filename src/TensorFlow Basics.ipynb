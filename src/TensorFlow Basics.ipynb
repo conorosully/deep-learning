{
 "cells": [
  {
   "cell_type": "markdown",
   "metadata": {},
   "source": [
    "# TensorFlow Basics\n",
    "Understanding the basic functions of tensorflow"
   ]
  },
  {
   "cell_type": "code",
   "execution_count": 2,
   "metadata": {},
   "outputs": [
    {
     "name": "stdout",
     "output_type": "stream",
     "text": [
      "1.11.0\n"
     ]
    }
   ],
   "source": [
    "import tensorflow as tf\n",
    "print(tf.__version__)"
   ]
  },
  {
   "cell_type": "markdown",
   "metadata": {},
   "source": [
    "### Sessions"
   ]
  },
  {
   "cell_type": "code",
   "execution_count": 20,
   "metadata": {},
   "outputs": [
    {
     "name": "stdout",
     "output_type": "stream",
     "text": [
      "Tensor(\"Const_4:0\", shape=(), dtype=int32)\n",
      "Tensor(\"Const_5:0\", shape=(), dtype=int32)\n"
     ]
    },
    {
     "data": {
      "text/plain": [
       "<tf.Tensor 'add_7:0' shape=() dtype=int32>"
      ]
     },
     "execution_count": 20,
     "metadata": {},
     "output_type": "execute_result"
    }
   ],
   "source": [
    "tensor_1 = tf.constant(1)\n",
    "tensor_2 = tf.constant(2)\n",
    "\n",
    "print(tensor_1)\n",
    "print(tensor_2)\n",
    "\n",
    "tensor_1 + tensor_2 #Have to run in a session "
   ]
  },
  {
   "cell_type": "code",
   "execution_count": 13,
   "metadata": {},
   "outputs": [
    {
     "name": "stdout",
     "output_type": "stream",
     "text": [
      "3\n"
     ]
    }
   ],
   "source": [
    "with tf.Session() as sess:\n",
    "    result = sess.run(tensor_1+tensor_2)\n",
    "    sess.close()\n",
    "    \n",
    "    \n",
    "print(result)"
   ]
  },
  {
   "cell_type": "code",
   "execution_count": 28,
   "metadata": {},
   "outputs": [
    {
     "name": "stdout",
     "output_type": "stream",
     "text": [
      "Tensor(\"random_normal_13:0\", shape=(4, 4), dtype=float32)\n",
      "[[ 1.0019026   0.658679    0.90062153  0.1944328 ]\n",
      " [-0.44954526 -0.4832348   0.2292727   0.52151644]\n",
      " [-0.04629505 -0.45660898 -0.22665861 -0.7832231 ]\n",
      " [ 0.33954495 -0.13999565 -0.05296539 -0.24193694]]\n",
      "[[ 0.4468496   0.6572182  -0.1324695   0.21646376]\n",
      " [ 0.30305642  0.5095135   0.01301672  0.10474817]\n",
      " [ 0.40477908  0.55571723 -0.08683411 -0.24707891]\n",
      " [-0.0645182   0.4177263  -0.09684841 -0.74011105]]\n",
      "\n",
      "[[  6.4021273]\n",
      " [ 38.90714  ]\n",
      " [-17.577774 ]\n",
      " [ 31.89394  ]]\n"
     ]
    }
   ],
   "source": [
    "with tf.Session() as sess:\n",
    "    \n",
    "    myrandn = tf.random_normal((4,4),mean=0,stddev=0.5)\n",
    "    print(myrandn)\n",
    "    print(myrandn.eval())\n",
    "    print(sess.run(myrandn))\n",
    "    print()\n",
    "    \n",
    "    \n",
    "    #Matrix multiplication\n",
    "    X = tf.constant([[10],[100],[1],[-5]],dtype=tf.float32)\n",
    "    result = tf.matmul(myrandn,X)\n",
    "    print(result.eval())\n",
    "    \n",
    "    \n",
    "    sess.close()"
   ]
  },
  {
   "cell_type": "markdown",
   "metadata": {},
   "source": [
    "### Variables and Placeholders"
   ]
  },
  {
   "cell_type": "code",
   "execution_count": 37,
   "metadata": {},
   "outputs": [
    {
     "name": "stdout",
     "output_type": "stream",
     "text": [
      "[[ 0.6866169  -0.4819522 ]\n",
      " [ 0.85360885 -0.17447138]]\n",
      "Tensor(\"Placeholder:0\", dtype=float64)\n"
     ]
    }
   ],
   "source": [
    "my_tensor = tf.random_uniform((2,2),-1,1)\n",
    "my_var = tf.Variable(initial_value=my_tensor)\n",
    "init = tf.global_variables_initializer() #initialize variables \n",
    "\n",
    "with tf.Session() as sess:\n",
    "    init.run()\n",
    "    \n",
    "    print(my_var.eval())\n",
    "    \n",
    "    ph = tf.placeholder(tf.float64)\n",
    "    \n",
    "    print(ph)"
   ]
  }
 ],
 "metadata": {
  "kernelspec": {
   "display_name": "tensor",
   "language": "python",
   "name": "tensor"
  },
  "language_info": {
   "codemirror_mode": {
    "name": "ipython",
    "version": 3
   },
   "file_extension": ".py",
   "mimetype": "text/x-python",
   "name": "python",
   "nbconvert_exporter": "python",
   "pygments_lexer": "ipython3",
   "version": "3.6.8"
  }
 },
 "nbformat": 4,
 "nbformat_minor": 2
}
