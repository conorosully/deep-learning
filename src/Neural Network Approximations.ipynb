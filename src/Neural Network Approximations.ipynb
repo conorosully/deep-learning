{
 "cells": [
  {
   "cell_type": "markdown",
   "metadata": {},
   "source": [
    "# Neural Network Approximations\n",
    "How Practical is the Universal Approximation Theorem?\n",
    "<br>\n",
    "<br>\n",
    "Code for an article on the practical constriants of the universal approximation theorem. The article can be found *here*."
   ]
  },
  {
   "cell_type": "code",
   "execution_count": 14,
   "metadata": {},
   "outputs": [
    {
     "name": "stdout",
     "output_type": "stream",
     "text": [
      "2.1.0\n"
     ]
    }
   ],
   "source": [
    "#imports\n",
    "import numpy as np\n",
    "import pandas as pd\n",
    "\n",
    "import random\n",
    "from sklearn.model_selection import train_test_split\n",
    "import statsmodels.api as sm\n",
    "\n",
    "import matplotlib.pyplot as plt\n",
    "%matplotlib inline\n",
    "\n",
    "import tensorflow as tf\n",
    "print(tf.__version__)"
   ]
  },
  {
   "cell_type": "markdown",
   "metadata": {},
   "source": [
    "## Function 1: \n",
    "y = x^2 + x - 4      \n",
    "-10 <= x<= 10"
   ]
  },
  {
   "cell_type": "code",
   "execution_count": 132,
   "metadata": {},
   "outputs": [
    {
     "data": {
      "text/plain": [
       "[<matplotlib.lines.Line2D at 0x175836d30>]"
      ]
     },
     "execution_count": 132,
     "metadata": {},
     "output_type": "execute_result"
    },
    {
     "data": {
      "image/png": "[encoded data removed]",
      "text/plain": [
       "<Figure size 432x288 with 1 Axes>"
      ]
     },
     "metadata": {
      "needs_background": "light"
     },
     "output_type": "display_data"
    }
   ],
   "source": [
    "#Create data \n",
    "n_points = 100000\n",
    "\n",
    "x = np.linspace(-10,10,n_points) #Create 1000 data points between -10 and 10\n",
    "x_std = (x - x.min()) / (x.max() - x.min())\n",
    "y =  x - 4\n",
    "\n",
    "plt.plot(x, y) \n"
   ]
  },
  {
   "cell_type": "code",
   "execution_count": 139,
   "metadata": {},
   "outputs": [
    {
     "name": "stdout",
     "output_type": "stream",
     "text": [
      "INFO:tensorflow:Using default config.\n",
      "WARNING:tensorflow:Using temporary folder as model directory: /var/folders/s2/82vv6ll16mn27w7gcdbccp3m0000gn/T/tmpku10i1yz\n",
      "INFO:tensorflow:Using config: {'_model_dir': '/var/folders/s2/82vv6ll16mn27w7gcdbccp3m0000gn/T/tmpku10i1yz', '_tf_random_seed': None, '_save_summary_steps': 100, '_save_checkpoints_steps': None, '_save_checkpoints_secs': 600, '_session_config': allow_soft_placement: true\n",
      "graph_options {\n",
      "  rewrite_options {\n",
      "    meta_optimizer_iterations: ONE\n",
      "  }\n",
      "}\n",
      ", '_keep_checkpoint_max': 5, '_keep_checkpoint_every_n_hours': 10000, '_log_step_count_steps': 100, '_train_distribute': None, '_device_fn': None, '_protocol': None, '_eval_distribute': None, '_experimental_distribute': None, '_experimental_max_worker_delay_secs': None, '_session_creation_timeout_secs': 7200, '_service': None, '_cluster_spec': ClusterSpec({}), '_task_type': 'worker', '_task_id': 0, '_global_id_in_cluster': 0, '_master': '', '_evaluation_master': '', '_is_chief': True, '_num_ps_replicas': 0, '_num_worker_replicas': 1}\n"
     ]
    }
   ],
   "source": [
    "feat_x = tf.feature_column.numeric_column('x')\n",
    "\n",
    "#cost = tf.reduce_mean(tf.squared_difference(ops,y))\n",
    "#optimizer = tf.train.GradientDescentOptimizer(learning_rate=learning_rate).minimize(cost)\n",
    "\n",
    "dnn_model = tf.estimator.DNNRegressor(hidden_units=[100,100,100],\n",
    "                                      feature_columns=[feat_x],\n",
    "                                      \n",
    "                                     activation_fn=tf.keras.activations.sigmoid) "
   ]
  },
  {
   "cell_type": "code",
   "execution_count": 140,
   "metadata": {},
   "outputs": [
    {
     "name": "stdout",
     "output_type": "stream",
     "text": [
      "INFO:tensorflow:Calling model_fn.\n",
      "WARNING:tensorflow:Layer dnn is casting an input tensor from dtype float64 to the layer's dtype of float32, which is new behavior in TensorFlow 2.  The layer has dtype float32 because it's dtype defaults to floatx.\n",
      "\n",
      "If you intended to run this layer in float32, you can safely ignore this warning. If in doubt, this warning is likely only an issue if you are porting a TensorFlow 1.X model to TensorFlow 2.\n",
      "\n",
      "To change all layers to have dtype float64 by default, call `tf.keras.backend.set_floatx('float64')`. To change just this layer, pass dtype='float64' to the layer constructor. If you are the author of this layer, you can disable autocasting by passing autocast=False to the base Layer constructor.\n",
      "\n",
      "INFO:tensorflow:Done calling model_fn.\n",
      "INFO:tensorflow:Create CheckpointSaverHook.\n",
      "INFO:tensorflow:Graph was finalized.\n",
      "INFO:tensorflow:Running local_init_op.\n",
      "INFO:tensorflow:Done running local_init_op.\n",
      "INFO:tensorflow:Saving checkpoints for 0 into /var/folders/s2/82vv6ll16mn27w7gcdbccp3m0000gn/T/tmpku10i1yz/model.ckpt.\n",
      "INFO:tensorflow:loss = 0.0342435, step = 0\n",
      "INFO:tensorflow:global_step/sec: 477.916\n",
      "INFO:tensorflow:loss = 0.2648006, step = 100 (0.211 sec)\n",
      "INFO:tensorflow:global_step/sec: 651.015\n",
      "INFO:tensorflow:loss = 0.65347964, step = 200 (0.153 sec)\n",
      "INFO:tensorflow:global_step/sec: 630.82\n",
      "INFO:tensorflow:loss = 249.88446, step = 300 (0.159 sec)\n",
      "INFO:tensorflow:global_step/sec: 659.809\n",
      "INFO:tensorflow:loss = 140.02426, step = 400 (0.151 sec)\n",
      "INFO:tensorflow:global_step/sec: 731.138\n",
      "INFO:tensorflow:loss = 68.374374, step = 500 (0.137 sec)\n",
      "INFO:tensorflow:global_step/sec: 761.831\n",
      "INFO:tensorflow:loss = 28.39577, step = 600 (0.131 sec)\n",
      "INFO:tensorflow:global_step/sec: 755.241\n",
      "INFO:tensorflow:loss = 8.193604, step = 700 (0.132 sec)\n",
      "INFO:tensorflow:global_step/sec: 637.081\n",
      "INFO:tensorflow:loss = 0.44756806, step = 800 (0.157 sec)\n",
      "INFO:tensorflow:global_step/sec: 728.837\n",
      "INFO:tensorflow:loss = 1.7502655, step = 900 (0.137 sec)\n",
      "INFO:tensorflow:global_step/sec: 782.423\n",
      "INFO:tensorflow:loss = 9.417062, step = 1000 (0.127 sec)\n",
      "INFO:tensorflow:global_step/sec: 771.39\n",
      "INFO:tensorflow:loss = 21.200468, step = 1100 (0.129 sec)\n",
      "INFO:tensorflow:global_step/sec: 767.019\n",
      "INFO:tensorflow:loss = 36.235634, step = 1200 (0.131 sec)\n",
      "INFO:tensorflow:global_step/sec: 689.916\n",
      "INFO:tensorflow:loss = 140.90555, step = 1300 (0.146 sec)\n",
      "INFO:tensorflow:global_step/sec: 692.287\n",
      "INFO:tensorflow:loss = 89.12735, step = 1400 (0.144 sec)\n",
      "INFO:tensorflow:global_step/sec: 773.747\n",
      "INFO:tensorflow:loss = 44.85479, step = 1500 (0.129 sec)\n",
      "INFO:tensorflow:global_step/sec: 767.537\n",
      "INFO:tensorflow:loss = 18.396484, step = 1600 (0.130 sec)\n",
      "INFO:tensorflow:global_step/sec: 764.012\n",
      "INFO:tensorflow:loss = 4.167259, step = 1700 (0.131 sec)\n",
      "INFO:tensorflow:global_step/sec: 708.406\n",
      "INFO:tensorflow:loss = 0.03881003, step = 1800 (0.142 sec)\n",
      "INFO:tensorflow:global_step/sec: 656.96\n",
      "INFO:tensorflow:loss = 3.825409, step = 1900 (0.152 sec)\n",
      "INFO:tensorflow:global_step/sec: 649.803\n",
      "INFO:tensorflow:loss = 14.325078, step = 2000 (0.155 sec)\n",
      "INFO:tensorflow:global_step/sec: 663.402\n",
      "INFO:tensorflow:loss = 29.32756, step = 2100 (0.150 sec)\n",
      "INFO:tensorflow:global_step/sec: 756.385\n",
      "INFO:tensorflow:loss = 47.833176, step = 2200 (0.132 sec)\n",
      "INFO:tensorflow:global_step/sec: 782.987\n",
      "INFO:tensorflow:loss = 120.8996, step = 2300 (0.128 sec)\n",
      "INFO:tensorflow:global_step/sec: 788.178\n",
      "INFO:tensorflow:loss = 77.17144, step = 2400 (0.127 sec)\n",
      "INFO:tensorflow:global_step/sec: 751.078\n",
      "INFO:tensorflow:loss = 39.605637, step = 2500 (0.133 sec)\n",
      "INFO:tensorflow:global_step/sec: 713.546\n",
      "INFO:tensorflow:loss = 15.927367, step = 2600 (0.140 sec)\n",
      "INFO:tensorflow:global_step/sec: 655.897\n",
      "INFO:tensorflow:loss = 3.4432921, step = 2700 (0.153 sec)\n",
      "INFO:tensorflow:global_step/sec: 610.281\n",
      "INFO:tensorflow:loss = 0.10218042, step = 2800 (0.164 sec)\n",
      "INFO:tensorflow:global_step/sec: 654.784\n",
      "INFO:tensorflow:loss = 4.7699165, step = 2900 (0.152 sec)\n",
      "INFO:tensorflow:global_step/sec: 750.497\n",
      "INFO:tensorflow:loss = 15.810317, step = 3000 (0.133 sec)\n",
      "INFO:tensorflow:global_step/sec: 645.289\n",
      "INFO:tensorflow:loss = 32.224754, step = 3100 (0.156 sec)\n",
      "INFO:tensorflow:global_step/sec: 669.941\n",
      "INFO:tensorflow:loss = 53.29443, step = 3200 (0.149 sec)\n",
      "INFO:tensorflow:global_step/sec: 685.342\n",
      "INFO:tensorflow:loss = 112.20599, step = 3300 (0.145 sec)\n",
      "INFO:tensorflow:global_step/sec: 681.68\n",
      "INFO:tensorflow:loss = 72.38909, step = 3400 (0.147 sec)\n",
      "INFO:tensorflow:global_step/sec: 672.482\n",
      "INFO:tensorflow:loss = 37.021774, step = 3500 (0.149 sec)\n",
      "INFO:tensorflow:global_step/sec: 681.955\n",
      "INFO:tensorflow:loss = 14.5963745, step = 3600 (0.146 sec)\n",
      "INFO:tensorflow:global_step/sec: 708.236\n",
      "INFO:tensorflow:loss = 2.8637972, step = 3700 (0.141 sec)\n",
      "INFO:tensorflow:global_step/sec: 643.322\n",
      "INFO:tensorflow:loss = 0.15335739, step = 3800 (0.156 sec)\n",
      "INFO:tensorflow:global_step/sec: 674.451\n",
      "INFO:tensorflow:loss = 5.2638526, step = 3900 (0.148 sec)\n",
      "INFO:tensorflow:global_step/sec: 664\n",
      "INFO:tensorflow:loss = 16.964108, step = 4000 (0.151 sec)\n",
      "INFO:tensorflow:global_step/sec: 639.194\n",
      "INFO:tensorflow:loss = 34.352604, step = 4100 (0.156 sec)\n",
      "INFO:tensorflow:global_step/sec: 642.757\n",
      "INFO:tensorflow:loss = 56.226807, step = 4200 (0.156 sec)\n",
      "INFO:tensorflow:global_step/sec: 698.592\n",
      "INFO:tensorflow:loss = 109.6361, step = 4300 (0.143 sec)\n",
      "INFO:tensorflow:global_step/sec: 662.261\n",
      "INFO:tensorflow:loss = 69.46944, step = 4400 (0.151 sec)\n",
      "INFO:tensorflow:global_step/sec: 767.253\n",
      "INFO:tensorflow:loss = 35.803856, step = 4500 (0.129 sec)\n",
      "INFO:tensorflow:global_step/sec: 800.539\n",
      "INFO:tensorflow:loss = 14.4596, step = 4600 (0.125 sec)\n",
      "INFO:tensorflow:global_step/sec: 804.447\n",
      "INFO:tensorflow:loss = 2.6960828, step = 4700 (0.125 sec)\n",
      "INFO:tensorflow:global_step/sec: 823.174\n",
      "INFO:tensorflow:loss = 0.16267893, step = 4800 (0.122 sec)\n",
      "INFO:tensorflow:global_step/sec: 728.575\n",
      "INFO:tensorflow:loss = 5.35973, step = 4900 (0.137 sec)\n",
      "INFO:tensorflow:global_step/sec: 693.016\n",
      "INFO:tensorflow:loss = 17.668358, step = 5000 (0.145 sec)\n",
      "INFO:tensorflow:global_step/sec: 639.439\n",
      "INFO:tensorflow:loss = 35.374336, step = 5100 (0.157 sec)\n",
      "INFO:tensorflow:global_step/sec: 635.304\n",
      "INFO:tensorflow:loss = 58.1429, step = 5200 (0.157 sec)\n",
      "INFO:tensorflow:global_step/sec: 650.757\n",
      "INFO:tensorflow:loss = 107.66131, step = 5300 (0.153 sec)\n",
      "INFO:tensorflow:global_step/sec: 605.178\n",
      "INFO:tensorflow:loss = 68.3561, step = 5400 (0.165 sec)\n",
      "INFO:tensorflow:global_step/sec: 690.545\n",
      "INFO:tensorflow:loss = 35.514126, step = 5500 (0.144 sec)\n",
      "INFO:tensorflow:global_step/sec: 624.399\n",
      "INFO:tensorflow:loss = 13.894275, step = 5600 (0.160 sec)\n",
      "INFO:tensorflow:global_step/sec: 598.591\n",
      "INFO:tensorflow:loss = 2.5539289, step = 5700 (0.167 sec)\n",
      "INFO:tensorflow:global_step/sec: 767.443\n",
      "INFO:tensorflow:loss = 0.19844003, step = 5800 (0.130 sec)\n",
      "INFO:tensorflow:global_step/sec: 790.464\n",
      "INFO:tensorflow:loss = 5.4056945, step = 5900 (0.127 sec)\n",
      "INFO:tensorflow:global_step/sec: 701.291\n",
      "INFO:tensorflow:loss = 17.78783, step = 6000 (0.142 sec)\n",
      "INFO:tensorflow:global_step/sec: 736.322\n",
      "INFO:tensorflow:loss = 36.158863, step = 6100 (0.136 sec)\n",
      "INFO:tensorflow:global_step/sec: 658.91\n",
      "INFO:tensorflow:loss = 59.00212, step = 6200 (0.152 sec)\n",
      "INFO:tensorflow:global_step/sec: 719.657\n",
      "INFO:tensorflow:loss = 106.725784, step = 6300 (0.139 sec)\n",
      "INFO:tensorflow:global_step/sec: 813.028\n",
      "INFO:tensorflow:loss = 66.62916, step = 6400 (0.123 sec)\n",
      "INFO:tensorflow:global_step/sec: 793.344\n",
      "INFO:tensorflow:loss = 34.761894, step = 6500 (0.126 sec)\n",
      "INFO:tensorflow:global_step/sec: 677.612\n",
      "INFO:tensorflow:loss = 13.65043, step = 6600 (0.149 sec)\n",
      "INFO:tensorflow:global_step/sec: 620.506\n",
      "INFO:tensorflow:loss = 2.5808408, step = 6700 (0.160 sec)\n",
      "INFO:tensorflow:global_step/sec: 788.998\n",
      "INFO:tensorflow:loss = 0.20260192, step = 6800 (0.126 sec)\n",
      "INFO:tensorflow:global_step/sec: 777.847\n",
      "INFO:tensorflow:loss = 5.630816, step = 6900 (0.129 sec)\n",
      "INFO:tensorflow:global_step/sec: 636.809\n",
      "INFO:tensorflow:loss = 18.251684, step = 7000 (0.157 sec)\n",
      "INFO:tensorflow:global_step/sec: 695.445\n",
      "INFO:tensorflow:loss = 36.454712, step = 7100 (0.143 sec)\n",
      "INFO:tensorflow:global_step/sec: 637.446\n",
      "INFO:tensorflow:loss = 60.166214, step = 7200 (0.157 sec)\n"
     ]
    },
    {
     "name": "stdout",
     "output_type": "stream",
     "text": [
      "INFO:tensorflow:global_step/sec: 674.036\n",
      "INFO:tensorflow:loss = 103.32717, step = 7300 (0.149 sec)\n",
      "INFO:tensorflow:global_step/sec: 661.463\n",
      "INFO:tensorflow:loss = 66.336075, step = 7400 (0.151 sec)\n",
      "INFO:tensorflow:global_step/sec: 700.879\n",
      "INFO:tensorflow:loss = 34.715122, step = 7500 (0.143 sec)\n",
      "INFO:tensorflow:global_step/sec: 711.739\n",
      "INFO:tensorflow:loss = 13.784557, step = 7600 (0.140 sec)\n",
      "INFO:tensorflow:global_step/sec: 758.645\n",
      "INFO:tensorflow:loss = 2.5633829, step = 7700 (0.132 sec)\n",
      "INFO:tensorflow:global_step/sec: 726.96\n",
      "INFO:tensorflow:loss = 0.20072907, step = 7800 (0.138 sec)\n",
      "INFO:tensorflow:global_step/sec: 737.997\n",
      "INFO:tensorflow:loss = 5.577992, step = 7900 (0.135 sec)\n",
      "INFO:tensorflow:global_step/sec: 683.825\n",
      "INFO:tensorflow:loss = 17.962751, step = 8000 (0.147 sec)\n",
      "INFO:tensorflow:global_step/sec: 779.4\n",
      "INFO:tensorflow:loss = 36.768627, step = 8100 (0.128 sec)\n",
      "INFO:tensorflow:global_step/sec: 786.806\n",
      "INFO:tensorflow:loss = 60.935253, step = 8200 (0.127 sec)\n",
      "INFO:tensorflow:global_step/sec: 769.936\n",
      "INFO:tensorflow:loss = 104.87764, step = 8300 (0.130 sec)\n",
      "INFO:tensorflow:global_step/sec: 760.78\n",
      "INFO:tensorflow:loss = 66.290596, step = 8400 (0.131 sec)\n",
      "INFO:tensorflow:global_step/sec: 702.879\n",
      "INFO:tensorflow:loss = 34.1259, step = 8500 (0.142 sec)\n",
      "INFO:tensorflow:global_step/sec: 632.78\n",
      "INFO:tensorflow:loss = 13.582694, step = 8600 (0.158 sec)\n",
      "INFO:tensorflow:global_step/sec: 807.603\n",
      "INFO:tensorflow:loss = 2.6199653, step = 8700 (0.124 sec)\n",
      "INFO:tensorflow:global_step/sec: 814.439\n",
      "INFO:tensorflow:loss = 0.20477074, step = 8800 (0.123 sec)\n",
      "INFO:tensorflow:global_step/sec: 820.042\n",
      "INFO:tensorflow:loss = 5.4890056, step = 8900 (0.122 sec)\n",
      "INFO:tensorflow:global_step/sec: 738.771\n",
      "INFO:tensorflow:loss = 18.180275, step = 9000 (0.135 sec)\n",
      "INFO:tensorflow:global_step/sec: 602.969\n",
      "INFO:tensorflow:loss = 37.35006, step = 9100 (0.166 sec)\n",
      "INFO:tensorflow:global_step/sec: 650.052\n",
      "INFO:tensorflow:loss = 61.61944, step = 9200 (0.154 sec)\n",
      "INFO:tensorflow:global_step/sec: 692.87\n",
      "INFO:tensorflow:loss = 103.08056, step = 9300 (0.144 sec)\n",
      "INFO:tensorflow:global_step/sec: 647.756\n",
      "INFO:tensorflow:loss = 64.78573, step = 9400 (0.155 sec)\n",
      "INFO:tensorflow:global_step/sec: 615.136\n",
      "INFO:tensorflow:loss = 34.35874, step = 9500 (0.163 sec)\n",
      "INFO:tensorflow:global_step/sec: 776.504\n",
      "INFO:tensorflow:loss = 13.685968, step = 9600 (0.128 sec)\n",
      "INFO:tensorflow:global_step/sec: 794.413\n",
      "INFO:tensorflow:loss = 2.6093338, step = 9700 (0.125 sec)\n",
      "INFO:tensorflow:global_step/sec: 709.15\n",
      "INFO:tensorflow:loss = 0.19274427, step = 9800 (0.142 sec)\n",
      "INFO:tensorflow:global_step/sec: 692.756\n",
      "INFO:tensorflow:loss = 5.6590724, step = 9900 (0.144 sec)\n",
      "INFO:tensorflow:Saving checkpoints for 10000 into /var/folders/s2/82vv6ll16mn27w7gcdbccp3m0000gn/T/tmpku10i1yz/model.ckpt.\n",
      "INFO:tensorflow:Loss for final step: 17.887993.\n"
     ]
    },
    {
     "data": {
      "text/plain": [
       "<tensorflow_estimator.python.estimator.canned.dnn.DNNRegressorV2 at 0x15c5a3710>"
      ]
     },
     "execution_count": 140,
     "metadata": {},
     "output_type": "execute_result"
    }
   ],
   "source": [
    "input_func = tf.compat.v1.estimator.inputs.numpy_input_fn(x={'x': x_std}, y=y, batch_size=100, num_epochs=1000,shuffle=True)\n",
    "\n",
    "#input_func = tf.compat.v1.estimator.inputs. pandas_input_fn(x=x,y=y,batch_size=100,num_epochs=1,shuffle=True)\n",
    "dnn_model.train(input_fn=input_func,steps=10000)"
   ]
  },
  {
   "cell_type": "code",
   "execution_count": 141,
   "metadata": {},
   "outputs": [
    {
     "name": "stdout",
     "output_type": "stream",
     "text": [
      "INFO:tensorflow:Calling model_fn.\n",
      "WARNING:tensorflow:Layer dnn is casting an input tensor from dtype float64 to the layer's dtype of float32, which is new behavior in TensorFlow 2.  The layer has dtype float32 because it's dtype defaults to floatx.\n",
      "\n",
      "If you intended to run this layer in float32, you can safely ignore this warning. If in doubt, this warning is likely only an issue if you are porting a TensorFlow 1.X model to TensorFlow 2.\n",
      "\n",
      "To change all layers to have dtype float64 by default, call `tf.keras.backend.set_floatx('float64')`. To change just this layer, pass dtype='float64' to the layer constructor. If you are the author of this layer, you can disable autocasting by passing autocast=False to the base Layer constructor.\n",
      "\n",
      "INFO:tensorflow:Done calling model_fn.\n",
      "INFO:tensorflow:Graph was finalized.\n",
      "INFO:tensorflow:Restoring parameters from /var/folders/s2/82vv6ll16mn27w7gcdbccp3m0000gn/T/tmpku10i1yz/model.ckpt-10000\n",
      "INFO:tensorflow:Running local_init_op.\n",
      "INFO:tensorflow:Done running local_init_op.\n"
     ]
    },
    {
     "data": {
      "text/plain": [
       "[<matplotlib.lines.Line2D at 0x1873b5240>]"
      ]
     },
     "execution_count": 141,
     "metadata": {},
     "output_type": "execute_result"
    },
    {
     "data": {
      "image/png": "[encoded data removed]",
      "text/plain": [
       "<Figure size 432x288 with 1 Axes>"
      ]
     },
     "metadata": {
      "needs_background": "light"
     },
     "output_type": "display_data"
    }
   ],
   "source": [
    "eval_input_func = tf.compat.v1.estimator.inputs.numpy_input_fn(\n",
    "    x={'x': x_std}, \n",
    "    y=y, \n",
    "    batch_size=100, \n",
    "    num_epochs=1,\n",
    "    shuffle=False)\n",
    "\n",
    "predictions = []\n",
    "for p in dnn_model.predict(input_fn=eval_input_func):\n",
    "    predictions.append(p['predictions'])\n",
    "\n",
    "plt.plot(x, y) \n",
    "plt.plot(x, predictions,'r') "
   ]
  },
  {
   "cell_type": "code",
   "execution_count": 142,
   "metadata": {},
   "outputs": [
    {
     "data": {
      "text/plain": [
       "[<matplotlib.lines.Line2D at 0x15a28de48>]"
      ]
     },
     "execution_count": 142,
     "metadata": {},
     "output_type": "execute_result"
    },
    {
     "data": {
      "image/png": "[encoded data removed]",
      "text/plain": [
       "<Figure size 432x288 with 1 Axes>"
      ]
     },
     "metadata": {
      "needs_background": "light"
     },
     "output_type": "display_data"
    }
   ],
   "source": [
    "plt.plot(x, predictions,'r') "
   ]
  }
 ],
 "metadata": {
  "kernelspec": {
   "display_name": "tensor",
   "language": "python",
   "name": "tensor"
  },
  "language_info": {
   "codemirror_mode": {
    "name": "ipython",
    "version": 3
   },
   "file_extension": ".py",
   "mimetype": "text/x-python",
   "name": "python",
   "nbconvert_exporter": "python",
   "pygments_lexer": "ipython3",
   "version": "3.6.8"
  }
 },
 "nbformat": 4,
 "nbformat_minor": 2
}
